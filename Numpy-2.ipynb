{
 "cells": [
  {
   "cell_type": "code",
   "execution_count": 2,
   "id": "bf525e67",
   "metadata": {},
   "outputs": [],
   "source": [
    "import numpy as np"
   ]
  },
  {
   "cell_type": "markdown",
   "id": "618957f1",
   "metadata": {},
   "source": [
    "# Adding,removing and sorting elements"
   ]
  },
  {
   "cell_type": "code",
   "execution_count": 2,
   "id": "ab6906ad",
   "metadata": {},
   "outputs": [
    {
     "data": {
      "text/plain": [
       "array([1, 2, 3, 4, 5])"
      ]
     },
     "execution_count": 2,
     "metadata": {},
     "output_type": "execute_result"
    }
   ],
   "source": [
    "array=np.array([1,2,3,4,5])\n",
    "array"
   ]
  },
  {
   "cell_type": "code",
   "execution_count": 16,
   "id": "4d99076d",
   "metadata": {},
   "outputs": [
    {
     "data": {
      "text/plain": [
       "array([1, 2, 3, 6, 7, 4, 5])"
      ]
     },
     "execution_count": 16,
     "metadata": {},
     "output_type": "execute_result"
    }
   ],
   "source": [
    "#np.insert-The insert function helps in adding an element to a specific index in an array\n",
    "array1=np.insert(array,3,[6,7])\n",
    "array1"
   ]
  },
  {
   "cell_type": "code",
   "execution_count": 13,
   "id": "2eea1fe5",
   "metadata": {},
   "outputs": [
    {
     "data": {
      "text/plain": [
       "array([1, 2, 3, 4, 5, 6, 7, 8])"
      ]
     },
     "execution_count": 13,
     "metadata": {},
     "output_type": "execute_result"
    }
   ],
   "source": [
    "#The append function is used to add elements at the end of an array\n",
    "array2=np.append(array,[6,7,8])\n",
    "array2"
   ]
  },
  {
   "cell_type": "code",
   "execution_count": 21,
   "id": "22f74c42",
   "metadata": {},
   "outputs": [
    {
     "data": {
      "text/plain": [
       "array([1, 3, 4, 5])"
      ]
     },
     "execution_count": 21,
     "metadata": {},
     "output_type": "execute_result"
    }
   ],
   "source": [
    "#np.delete-This function helps to delete an element by inputting the index\n",
    "array3=np.delete(array,1)\n",
    "array3"
   ]
  },
  {
   "cell_type": "code",
   "execution_count": 22,
   "id": "7c9838a9",
   "metadata": {},
   "outputs": [
    {
     "data": {
      "text/plain": [
       "array([16, 13,  2,  9, 14, 14,  4, 17,  0, 16,  5,  9,  9, 10,  0, 13,  7,\n",
       "        4, 16,  3])"
      ]
     },
     "execution_count": 22,
     "metadata": {},
     "output_type": "execute_result"
    }
   ],
   "source": [
    "integers=np.random.randint(0,20,20)\n",
    "integers"
   ]
  },
  {
   "cell_type": "code",
   "execution_count": 23,
   "id": "c0d964e8",
   "metadata": {
    "scrolled": true
   },
   "outputs": [
    {
     "name": "stdout",
     "output_type": "stream",
     "text": [
      "[ 0  0  2  3  4  4  5  7  9  9  9 10 13 13 14 14 16 16 16 17]\n"
     ]
    }
   ],
   "source": [
    "#Sorting one dimensional array \n",
    "print(np.sort(integers))"
   ]
  },
  {
   "cell_type": "code",
   "execution_count": 29,
   "id": "47f0e56f",
   "metadata": {},
   "outputs": [
    {
     "data": {
      "text/plain": [
       "array([[5, 4, 3, 2, 1],\n",
       "       [6, 7, 5, 4, 3]])"
      ]
     },
     "execution_count": 29,
     "metadata": {},
     "output_type": "execute_result"
    }
   ],
   "source": [
    "integers1=np.array([[5,4,3,2,1],[6,7,5,4,3]])\n",
    "integers1"
   ]
  },
  {
   "cell_type": "code",
   "execution_count": 28,
   "id": "7e3e6623",
   "metadata": {
    "scrolled": true
   },
   "outputs": [
    {
     "name": "stdout",
     "output_type": "stream",
     "text": [
      "[[1 2 3 4 5]\n",
      " [0 6 7 8 9]]\n"
     ]
    }
   ],
   "source": [
    "#Sorting a 2 dimensional array\n",
    "print(np.sort(integers1))"
   ]
  },
  {
   "cell_type": "code",
   "execution_count": 30,
   "id": "1565dbe7",
   "metadata": {
    "scrolled": true
   },
   "outputs": [
    {
     "data": {
      "text/plain": [
       "array(['red', 'green', 'yellow', 'blue', 'gold'], dtype='<U6')"
      ]
     },
     "execution_count": 30,
     "metadata": {},
     "output_type": "execute_result"
    }
   ],
   "source": [
    "#Sorting an array with string sorts them alphabetically\n",
    "array=np.array(['red','green','yellow','blue','gold'])\n",
    "array"
   ]
  },
  {
   "cell_type": "code",
   "execution_count": 31,
   "id": "f91682de",
   "metadata": {
    "scrolled": true
   },
   "outputs": [
    {
     "name": "stdout",
     "output_type": "stream",
     "text": [
      "['blue' 'gold' 'green' 'red' 'yellow']\n"
     ]
    }
   ],
   "source": [
    "print(np.sort(array))"
   ]
  },
  {
   "cell_type": "markdown",
   "id": "de5783e0",
   "metadata": {},
   "source": [
    "# Copies and Views"
   ]
  },
  {
   "cell_type": "code",
   "execution_count": null,
   "id": "451fffa9",
   "metadata": {},
   "outputs": [],
   "source": [
    "#Copy is a new array and the view is different view of original array which is stored at a different loction\n",
    "#View is a different view of the original array which gives a differently named reference to the same locatiion in the memory"
   ]
  },
  {
   "cell_type": "code",
   "execution_count": 54,
   "id": "bbfb1a24",
   "metadata": {},
   "outputs": [
    {
     "data": {
      "text/plain": [
       "array([1111, 1212, 1313, 1414, 1515, 1616, 1717, 1818])"
      ]
     },
     "execution_count": 54,
     "metadata": {},
     "output_type": "execute_result"
    }
   ],
   "source": [
    "students_ids_number=np.array([1111,1212,1313,1414,1515,1616,1717,1818])\n",
    "students_ids_number"
   ]
  },
  {
   "cell_type": "code",
   "execution_count": 55,
   "id": "5e60b430",
   "metadata": {
    "collapsed": true
   },
   "outputs": [
    {
     "ename": "TypeError",
     "evalue": "'numpy.ndarray' object is not callable",
     "output_type": "error",
     "traceback": [
      "\u001b[0;31m---------------------------------------------------------------------------\u001b[0m",
      "\u001b[0;31mTypeError\u001b[0m                                 Traceback (most recent call last)",
      "\u001b[0;32m/var/folders/12/06cl1m6x4992t10_b5krgjhc0000gn/T/ipykernel_72027/2793542979.py\u001b[0m in \u001b[0;36m<module>\u001b[0;34m\u001b[0m\n\u001b[1;32m      1\u001b[0m \u001b[0mstudents_ids_number_reg\u001b[0m\u001b[0;34m=\u001b[0m\u001b[0mstudents_ids_number\u001b[0m\u001b[0;34m\u001b[0m\u001b[0;34m\u001b[0m\u001b[0m\n\u001b[0;32m----> 2\u001b[0;31m \u001b[0mprint\u001b[0m\u001b[0;34m(\u001b[0m\u001b[0;34m\"id of students_ids_number\"\u001b[0m\u001b[0;34m,\u001b[0m\u001b[0mid\u001b[0m\u001b[0;34m(\u001b[0m\u001b[0mstudents_ids_number\u001b[0m\u001b[0;34m)\u001b[0m\u001b[0;34m)\u001b[0m\u001b[0;34m\u001b[0m\u001b[0;34m\u001b[0m\u001b[0m\n\u001b[0m\u001b[1;32m      3\u001b[0m \u001b[0mprint\u001b[0m\u001b[0;34m(\u001b[0m\u001b[0;34m\"id of students_ids_number_reg\"\u001b[0m\u001b[0;34m,\u001b[0m\u001b[0mid\u001b[0m\u001b[0;34m(\u001b[0m\u001b[0mstudents_ids_number_reg\u001b[0m\u001b[0;34m)\u001b[0m\u001b[0;34m)\u001b[0m\u001b[0;34m\u001b[0m\u001b[0;34m\u001b[0m\u001b[0m\n",
      "\u001b[0;31mTypeError\u001b[0m: 'numpy.ndarray' object is not callable"
     ]
    }
   ],
   "source": [
    "students_ids_number_reg=students_ids_number\n",
    "print(\"id of students_ids_number\",id(students_ids_number))\n",
    "print(\"id of students_ids_number_reg\",id(students_ids_number_reg))"
   ]
  },
  {
   "cell_type": "code",
   "execution_count": 56,
   "id": "8ee6a506",
   "metadata": {},
   "outputs": [
    {
     "name": "stdout",
     "output_type": "stream",
     "text": [
      "[1111 2222 1313 1414 1515 1616 1717 1818]\n",
      "[1111 2222 1313 1414 1515 1616 1717 1818]\n"
     ]
    }
   ],
   "source": [
    "students_ids_number_reg[1]=2222\n",
    "print(students_ids_number)\n",
    "print(students_ids_number_reg)"
   ]
  },
  {
   "cell_type": "code",
   "execution_count": 57,
   "id": "cf7d7a7c",
   "metadata": {},
   "outputs": [],
   "source": [
    "students_ids_number_cp=students_ids_number.copy()"
   ]
  },
  {
   "cell_type": "code",
   "execution_count": 58,
   "id": "4ffdfaee",
   "metadata": {},
   "outputs": [
    {
     "name": "stdout",
     "output_type": "stream",
     "text": [
      "[1111 2222 1313 1414 1515 1616 1717 1818]\n"
     ]
    }
   ],
   "source": [
    "print(students_ids_number_cp)"
   ]
  },
  {
   "cell_type": "code",
   "execution_count": 59,
   "id": "34f7d91d",
   "metadata": {},
   "outputs": [
    {
     "name": "stdout",
     "output_type": "stream",
     "text": [
      "[ True  True  True  True  True  True  True  True]\n"
     ]
    }
   ],
   "source": [
    "print(students_ids_number_cp==students_ids_number)"
   ]
  },
  {
   "cell_type": "code",
   "execution_count": 60,
   "id": "54500237",
   "metadata": {
    "collapsed": true
   },
   "outputs": [
    {
     "ename": "TypeError",
     "evalue": "'numpy.ndarray' object is not callable",
     "output_type": "error",
     "traceback": [
      "\u001b[0;31m---------------------------------------------------------------------------\u001b[0m",
      "\u001b[0;31mTypeError\u001b[0m                                 Traceback (most recent call last)",
      "\u001b[0;32m/var/folders/12/06cl1m6x4992t10_b5krgjhc0000gn/T/ipykernel_72027/4146493908.py\u001b[0m in \u001b[0;36m<module>\u001b[0;34m\u001b[0m\n\u001b[0;32m----> 1\u001b[0;31m \u001b[0mprint\u001b[0m \u001b[0;34m(\u001b[0m\u001b[0;34m\"id of students_ids_number\"\u001b[0m\u001b[0;34m,\u001b[0m\u001b[0mid\u001b[0m\u001b[0;34m(\u001b[0m\u001b[0mstudents_ids_number\u001b[0m\u001b[0;34m)\u001b[0m\u001b[0;34m)\u001b[0m\u001b[0;34m\u001b[0m\u001b[0;34m\u001b[0m\u001b[0m\n\u001b[0m\u001b[1;32m      2\u001b[0m \u001b[0mprint\u001b[0m\u001b[0;34m(\u001b[0m\u001b[0;34m\"id of students_ids_number_cp\"\u001b[0m\u001b[0;34m,\u001b[0m\u001b[0mid\u001b[0m\u001b[0;34m(\u001b[0m\u001b[0mstudents_ids_number_cp\u001b[0m\u001b[0;34m)\u001b[0m\u001b[0;34m)\u001b[0m\u001b[0;34m\u001b[0m\u001b[0;34m\u001b[0m\u001b[0m\n",
      "\u001b[0;31mTypeError\u001b[0m: 'numpy.ndarray' object is not callable"
     ]
    }
   ],
   "source": [
    "print (\"id of students_ids_number\",id(students_ids_number))\n",
    "print(\"id of students_ids_number_cp\",id(students_ids_number_cp))"
   ]
  },
  {
   "cell_type": "code",
   "execution_count": 61,
   "id": "1729dc79",
   "metadata": {
    "scrolled": true
   },
   "outputs": [
    {
     "name": "stdout",
     "output_type": "stream",
     "text": [
      "original:  [1000 2222 1313 1414 1515 1616 1717 1818]\n",
      "copy:  [1111 2222 1313 1414 1515 1616 1717 1818]\n"
     ]
    }
   ],
   "source": [
    "students_ids_number[0]=1000\n",
    "print (\"original: \", students_ids_number)\n",
    "print(\"copy: \",students_ids_number_cp)"
   ]
  },
  {
   "cell_type": "code",
   "execution_count": 62,
   "id": "cd087a16",
   "metadata": {},
   "outputs": [],
   "source": [
    "students_ids_number_v=students_ids_number.view()"
   ]
  },
  {
   "cell_type": "code",
   "execution_count": 63,
   "id": "9c570571",
   "metadata": {},
   "outputs": [
    {
     "name": "stdout",
     "output_type": "stream",
     "text": [
      "original:  [2000 2222 1313 1414 1515 1616 1717 1818]\n",
      "view: [2000 2222 1313 1414 1515 1616 1717 1818]\n"
     ]
    }
   ],
   "source": [
    "students_ids_number_v[0]=2000\n",
    "print(\"original: \", students_ids_number)\n",
    "print(\"view:\",students_ids_number_v)"
   ]
  },
  {
   "cell_type": "code",
   "execution_count": 64,
   "id": "140f46e5",
   "metadata": {},
   "outputs": [
    {
     "name": "stdout",
     "output_type": "stream",
     "text": [
      "None\n",
      "[2000 2222 1313 1414 1515 1616 1717 1818]\n"
     ]
    }
   ],
   "source": [
    "print(students_ids_number_cp.base)\n",
    "print(students_ids_number_v.base)"
   ]
  },
  {
   "cell_type": "markdown",
   "id": "fd0cf7d4",
   "metadata": {},
   "source": [
    "# Reshaping arrays"
   ]
  },
  {
   "cell_type": "code",
   "execution_count": 2,
   "id": "6f7dd5f9",
   "metadata": {},
   "outputs": [
    {
     "data": {
      "text/plain": [
       "array([ 1,  2,  3,  4,  5,  6,  7,  8,  9, 10, 11, 12])"
      ]
     },
     "execution_count": 2,
     "metadata": {},
     "output_type": "execute_result"
    }
   ],
   "source": [
    "#np.reshapeThis function helps to reshape an n dimensional array to m dimensional array\n",
    "array=np.arange(1,13)\n",
    "array"
   ]
  },
  {
   "cell_type": "code",
   "execution_count": 7,
   "id": "dac3c773",
   "metadata": {},
   "outputs": [
    {
     "data": {
      "text/plain": [
       "array([[ 1,  2,  3],\n",
       "       [ 4,  5,  6],\n",
       "       [ 7,  8,  9],\n",
       "       [10, 11, 12]])"
      ]
     },
     "execution_count": 7,
     "metadata": {},
     "output_type": "execute_result"
    }
   ],
   "source": [
    "#Reshaping a 1d array to 2d\n",
    "array2=np.reshape(array,(4,3))\n",
    "array2"
   ]
  },
  {
   "cell_type": "code",
   "execution_count": 9,
   "id": "c1bfc80a",
   "metadata": {},
   "outputs": [
    {
     "data": {
      "text/plain": [
       "array([[[ 1,  2],\n",
       "        [ 3,  4],\n",
       "        [ 5,  6]],\n",
       "\n",
       "       [[ 7,  8],\n",
       "        [ 9, 10],\n",
       "        [11, 12]]])"
      ]
     },
     "execution_count": 9,
     "metadata": {},
     "output_type": "execute_result"
    }
   ],
   "source": [
    "#Reshaping a 1d array to 3d array\n",
    "array3=np.reshape(array,(2,3,2))\n",
    "array3"
   ]
  },
  {
   "cell_type": "code",
   "execution_count": 13,
   "id": "18520821",
   "metadata": {},
   "outputs": [
    {
     "data": {
      "text/plain": [
       "array([[1, 2],\n",
       "       [8, 9],\n",
       "       [2, 3],\n",
       "       [0, 8]])"
      ]
     },
     "execution_count": 13,
     "metadata": {},
     "output_type": "execute_result"
    }
   ],
   "source": [
    "array=np.array([[1,2],[8,9],[2,3],[0,8]])\n",
    "array"
   ]
  },
  {
   "cell_type": "code",
   "execution_count": 18,
   "id": "54c81742",
   "metadata": {},
   "outputs": [
    {
     "data": {
      "text/plain": [
       "array([1, 2, 8, 9, 2, 3, 0, 8])"
      ]
     },
     "execution_count": 18,
     "metadata": {},
     "output_type": "execute_result"
    }
   ],
   "source": [
    "#Converting an n dimensional array to 1d array\n",
    "#This can be done by writing -1\n",
    "array1=np.reshape(array,-1)\n",
    "array1"
   ]
  },
  {
   "cell_type": "code",
   "execution_count": 19,
   "id": "c83844dc",
   "metadata": {},
   "outputs": [
    {
     "name": "stdout",
     "output_type": "stream",
     "text": [
      "[1 2 8 9 2 3 0 8]\n",
      "[1 2 8 9 2 3 0 8]\n"
     ]
    }
   ],
   "source": [
    "#numpy.ndarray.flatten-This helps to flatten an array and makes a copy of it without making chages to the original array\n",
    "#numpy.ravel- opposite of flatten, this will flatten the array and make change to the original array\n",
    "#ravel is memory efficient\n",
    "array2=array.flatten()\n",
    "print(array2)\n",
    "array3=array.ravel()\n",
    "print(array3)"
   ]
  },
  {
   "cell_type": "code",
   "execution_count": 20,
   "id": "0007280b",
   "metadata": {},
   "outputs": [
    {
     "name": "stdout",
     "output_type": "stream",
     "text": [
      "[[200   2]\n",
      " [  8   9]\n",
      " [  2   3]\n",
      " [  0   8]]\n",
      "[100   2   8   9   2   3   0   8]\n",
      "[200   2   8   9   2   3   0   8]\n"
     ]
    }
   ],
   "source": [
    "array2[0]=100\n",
    "array3[0]=200\n",
    "print(array)\n",
    "print(array2)\n",
    "print(array3)"
   ]
  },
  {
   "cell_type": "markdown",
   "id": "6ac02156",
   "metadata": {},
   "source": [
    "# Indexing and slicing"
   ]
  },
  {
   "cell_type": "code",
   "execution_count": 33,
   "id": "62cea073",
   "metadata": {},
   "outputs": [
    {
     "data": {
      "text/plain": [
       "array([[ 0,  1,  2,  3],\n",
       "       [ 4,  5,  6,  7],\n",
       "       [ 8,  9, 10, 11]])"
      ]
     },
     "execution_count": 33,
     "metadata": {},
     "output_type": "execute_result"
    }
   ],
   "source": [
    "arrayx=np.reshape(np.arange(12),(3,4))\n",
    "arrayx"
   ]
  },
  {
   "cell_type": "code",
   "execution_count": 34,
   "id": "16bedd2e",
   "metadata": {},
   "outputs": [
    {
     "data": {
      "text/plain": [
       "5"
      ]
     },
     "execution_count": 34,
     "metadata": {},
     "output_type": "execute_result"
    }
   ],
   "source": [
    "#Indexing the second ow, second element\n",
    "arrayx[1,1]"
   ]
  },
  {
   "cell_type": "code",
   "execution_count": 24,
   "id": "513aa228",
   "metadata": {},
   "outputs": [
    {
     "data": {
      "text/plain": [
       "array([[[ 0,  1,  2,  3,  4],\n",
       "        [ 5,  6,  7,  8,  9],\n",
       "        [10, 11, 12, 13, 14],\n",
       "        [15, 16, 17, 18, 19]],\n",
       "\n",
       "       [[20, 21, 22, 23, 24],\n",
       "        [25, 26, 27, 28, 29],\n",
       "        [30, 31, 32, 33, 34],\n",
       "        [35, 36, 37, 38, 39]],\n",
       "\n",
       "       [[40, 41, 42, 43, 44],\n",
       "        [45, 46, 47, 48, 49],\n",
       "        [50, 51, 52, 53, 54],\n",
       "        [55, 56, 57, 58, 59]]])"
      ]
     },
     "execution_count": 24,
     "metadata": {},
     "output_type": "execute_result"
    }
   ],
   "source": [
    "array1=np.reshape(np.arange(60),(3,4,5))\n",
    "array1"
   ]
  },
  {
   "cell_type": "code",
   "execution_count": 26,
   "id": "5ce9af5c",
   "metadata": {},
   "outputs": [
    {
     "data": {
      "text/plain": [
       "59"
      ]
     },
     "execution_count": 26,
     "metadata": {},
     "output_type": "execute_result"
    }
   ],
   "source": [
    "#We can use negative numbers for indexing if we want the last from the back\n",
    "array1[2,-1,-1]"
   ]
  },
  {
   "cell_type": "code",
   "execution_count": 27,
   "id": "a30c1dc7",
   "metadata": {},
   "outputs": [
    {
     "data": {
      "text/plain": [
       "array([0, 1, 2, 3, 4, 5, 6, 7, 8, 9])"
      ]
     },
     "execution_count": 27,
     "metadata": {},
     "output_type": "execute_result"
    }
   ],
   "source": [
    "array=np.arange(10)\n",
    "array"
   ]
  },
  {
   "cell_type": "code",
   "execution_count": 29,
   "id": "f5c88f85",
   "metadata": {},
   "outputs": [
    {
     "data": {
      "text/plain": [
       "array([2, 3, 4, 5])"
      ]
     },
     "execution_count": 29,
     "metadata": {},
     "output_type": "execute_result"
    }
   ],
   "source": [
    "#slicing 4 elements\n",
    "array[2:6]"
   ]
  },
  {
   "cell_type": "code",
   "execution_count": 30,
   "id": "a2ee6171",
   "metadata": {
    "scrolled": true
   },
   "outputs": [
    {
     "data": {
      "text/plain": [
       "array([0, 1, 2, 3, 4])"
      ]
     },
     "execution_count": 30,
     "metadata": {},
     "output_type": "execute_result"
    }
   ],
   "source": [
    "#slicing the first 5 elements\n",
    "array[:5]"
   ]
  },
  {
   "cell_type": "code",
   "execution_count": 31,
   "id": "1ff3e6cf",
   "metadata": {},
   "outputs": [
    {
     "data": {
      "text/plain": [
       "array([7, 8, 9])"
      ]
     },
     "execution_count": 31,
     "metadata": {},
     "output_type": "execute_result"
    }
   ],
   "source": [
    "#slicing the last 3 elements\n",
    "array[-3:]"
   ]
  },
  {
   "cell_type": "code",
   "execution_count": 32,
   "id": "bc5a28f3",
   "metadata": {},
   "outputs": [
    {
     "data": {
      "text/plain": [
       "array([0, 2, 4, 6, 8])"
      ]
     },
     "execution_count": 32,
     "metadata": {},
     "output_type": "execute_result"
    }
   ],
   "source": [
    "#Slicing the alternate elements\n",
    "array[::2]"
   ]
  },
  {
   "cell_type": "code",
   "execution_count": 35,
   "id": "67237c12",
   "metadata": {},
   "outputs": [
    {
     "data": {
      "text/plain": [
       "array([[ 0,  1,  2,  3],\n",
       "       [ 4,  5,  6,  7],\n",
       "       [ 8,  9, 10, 11]])"
      ]
     },
     "execution_count": 35,
     "metadata": {},
     "output_type": "execute_result"
    }
   ],
   "source": [
    "arrayx"
   ]
  },
  {
   "cell_type": "code",
   "execution_count": 36,
   "id": "6df32304",
   "metadata": {},
   "outputs": [
    {
     "data": {
      "text/plain": [
       "array([[ 5,  6,  7],\n",
       "       [ 9, 10, 11]])"
      ]
     },
     "execution_count": 36,
     "metadata": {},
     "output_type": "execute_result"
    }
   ],
   "source": [
    "arrayx[1:,1:]"
   ]
  },
  {
   "cell_type": "code",
   "execution_count": 37,
   "id": "3474019d",
   "metadata": {},
   "outputs": [
    {
     "data": {
      "text/plain": [
       "array([4, 5, 6, 7])"
      ]
     },
     "execution_count": 37,
     "metadata": {},
     "output_type": "execute_result"
    }
   ],
   "source": [
    "arrayx[1,:]"
   ]
  },
  {
   "cell_type": "code",
   "execution_count": 38,
   "id": "0f9ab620",
   "metadata": {},
   "outputs": [
    {
     "data": {
      "text/plain": [
       "array([ 2,  6, 10])"
      ]
     },
     "execution_count": 38,
     "metadata": {},
     "output_type": "execute_result"
    }
   ],
   "source": [
    "arrayx[:,2]"
   ]
  },
  {
   "cell_type": "markdown",
   "id": "7eefed96",
   "metadata": {},
   "source": [
    "# Joining and splitting arrays"
   ]
  },
  {
   "cell_type": "code",
   "execution_count": 18,
   "id": "bcc5a96c",
   "metadata": {},
   "outputs": [
    {
     "name": "stdout",
     "output_type": "stream",
     "text": [
      "[ 1  2  3  4  5  6  7  8  9 10]\n",
      "[11 12 13 14 15 16 17 18 19 20]\n"
     ]
    }
   ],
   "source": [
    "#We can merge and break arrays\n",
    "#concatenate-merging two arrays\n",
    "array4=np.arange(1,11)\n",
    "array5=np.arange(11,21)\n",
    "print(array4)\n",
    "print(array5)"
   ]
  },
  {
   "cell_type": "code",
   "execution_count": 19,
   "id": "49112978",
   "metadata": {},
   "outputs": [
    {
     "data": {
      "text/plain": [
       "array([ 1,  2,  3,  4,  5,  6,  7,  8,  9, 10, 11, 12, 13, 14, 15, 16, 17,\n",
       "       18, 19, 20])"
      ]
     },
     "execution_count": 19,
     "metadata": {},
     "output_type": "execute_result"
    }
   ],
   "source": [
    "array3=np.concatenate((array4,array5))\n",
    "array3"
   ]
  },
  {
   "cell_type": "code",
   "execution_count": 7,
   "id": "91a6ccb9",
   "metadata": {},
   "outputs": [
    {
     "data": {
      "text/plain": [
       "array([[1, 2, 3, 4],\n",
       "       [5, 6, 7, 8]])"
      ]
     },
     "execution_count": 7,
     "metadata": {},
     "output_type": "execute_result"
    }
   ],
   "source": [
    "array=np.array([[1,2,3,4],[5,6,7,8]])\n",
    "array"
   ]
  },
  {
   "cell_type": "code",
   "execution_count": 8,
   "id": "c7487dd7",
   "metadata": {},
   "outputs": [
    {
     "data": {
      "text/plain": [
       "array([[ 9, 10, 11, 12],\n",
       "       [13, 14, 15, 16]])"
      ]
     },
     "execution_count": 8,
     "metadata": {},
     "output_type": "execute_result"
    }
   ],
   "source": [
    "array1=np.array([[9,10,11,12],[13,14,15,16]])\n",
    "array1"
   ]
  },
  {
   "cell_type": "code",
   "execution_count": 15,
   "id": "82e70288",
   "metadata": {},
   "outputs": [
    {
     "data": {
      "text/plain": [
       "array([[ 1,  2,  3,  4,  9, 10, 11, 12],\n",
       "       [ 5,  6,  7,  8, 13, 14, 15, 16]])"
      ]
     },
     "execution_count": 15,
     "metadata": {},
     "output_type": "execute_result"
    }
   ],
   "source": [
    "#Putting axis=1 will keep the dimension of the array same and increasing the axis decreases the dimension of the array\n",
    "array2=np.concatenate((array,array1),axis=1)\n",
    "array2"
   ]
  },
  {
   "cell_type": "code",
   "execution_count": 20,
   "id": "96912e15",
   "metadata": {},
   "outputs": [
    {
     "data": {
      "text/plain": [
       "array([[ 1,  2,  3,  4,  5,  6,  7,  8,  9, 10],\n",
       "       [11, 12, 13, 14, 15, 16, 17, 18, 19, 20]])"
      ]
     },
     "execution_count": 20,
     "metadata": {},
     "output_type": "execute_result"
    }
   ],
   "source": [
    "st_arr = np.stack((array4,array5))\n",
    "st_arr"
   ]
  },
  {
   "cell_type": "code",
   "execution_count": 22,
   "id": "9f4cdd78",
   "metadata": {},
   "outputs": [
    {
     "data": {
      "text/plain": [
       "array([ 1,  2,  3,  4,  5,  6,  7,  8,  9, 10, 11, 12, 13, 14, 15, 16, 17,\n",
       "       18, 19, 20])"
      ]
     },
     "execution_count": 22,
     "metadata": {},
     "output_type": "execute_result"
    }
   ],
   "source": [
    "#hstack-used for horizontal stacking\n",
    "#vstack-used for vertical stacking\n",
    "array_h=np.hstack((array4,array5))\n",
    "array_h"
   ]
  },
  {
   "cell_type": "code",
   "execution_count": 23,
   "id": "41f02f92",
   "metadata": {},
   "outputs": [
    {
     "data": {
      "text/plain": [
       "array([[ 1,  2,  3,  4,  5,  6,  7,  8,  9, 10],\n",
       "       [11, 12, 13, 14, 15, 16, 17, 18, 19, 20]])"
      ]
     },
     "execution_count": 23,
     "metadata": {},
     "output_type": "execute_result"
    }
   ],
   "source": [
    "array_v=np.vstack((array4,array5))\n",
    "array_v"
   ]
  },
  {
   "cell_type": "code",
   "execution_count": 24,
   "id": "765c84b0",
   "metadata": {},
   "outputs": [
    {
     "data": {
      "text/plain": [
       "array([ 1,  2,  3,  4,  5,  6,  7,  8,  9, 10, 11, 12])"
      ]
     },
     "execution_count": 24,
     "metadata": {},
     "output_type": "execute_result"
    }
   ],
   "source": [
    "#splitting arrays\n",
    "#drawback-the number of elements should be divisible by the no. of splits\n",
    "array5=np.arange(1,13)\n",
    "array5"
   ]
  },
  {
   "cell_type": "code",
   "execution_count": 31,
   "id": "9c44bb56",
   "metadata": {},
   "outputs": [
    {
     "data": {
      "text/plain": [
       "[array([1, 2, 3]), array([4, 5, 6]), array([7, 8, 9]), array([10, 11, 12])]"
      ]
     },
     "execution_count": 31,
     "metadata": {},
     "output_type": "execute_result"
    }
   ],
   "source": [
    "array_s=np.array_split(array5,4)\n",
    "array_s"
   ]
  },
  {
   "cell_type": "code",
   "execution_count": 26,
   "id": "3e242f12",
   "metadata": {},
   "outputs": [
    {
     "name": "stdout",
     "output_type": "stream",
     "text": [
      "[7 8 9]\n"
     ]
    }
   ],
   "source": [
    "print(array_s[2])"
   ]
  },
  {
   "cell_type": "code",
   "execution_count": 30,
   "id": "e2975b9c",
   "metadata": {},
   "outputs": [
    {
     "data": {
      "text/plain": [
       "[array([1, 2]),\n",
       " array([3, 4]),\n",
       " array([5, 6]),\n",
       " array([7, 8]),\n",
       " array([9]),\n",
       " array([10]),\n",
       " array([11]),\n",
       " array([12])]"
      ]
     },
     "execution_count": 30,
     "metadata": {},
     "output_type": "execute_result"
    }
   ],
   "source": [
    "array_s=np.array_split(array5,8)\n",
    "array_s"
   ]
  }
 ],
 "metadata": {
  "kernelspec": {
   "display_name": "Python 3 (ipykernel)",
   "language": "python",
   "name": "python3"
  },
  "language_info": {
   "codemirror_mode": {
    "name": "ipython",
    "version": 3
   },
   "file_extension": ".py",
   "mimetype": "text/x-python",
   "name": "python",
   "nbconvert_exporter": "python",
   "pygments_lexer": "ipython3",
   "version": "3.9.13"
  }
 },
 "nbformat": 4,
 "nbformat_minor": 5
}
