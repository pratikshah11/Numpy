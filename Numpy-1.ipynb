{
 "cells": [
  {
   "cell_type": "markdown",
   "id": "822ede64",
   "metadata": {},
   "source": [
    "# Numpy Array types and creating Numpy Arrays"
   ]
  },
  {
   "cell_type": "markdown",
   "id": "2ee45f0f",
   "metadata": {},
   "source": [
    "There are various advantages of Numpy arrays as compared to lists.\n",
    "The arrays are 100x faster and take less memory as compared to lists.\n",
    "The arrays save elements of same data type while lists can save elements with different data type."
   ]
  },
  {
   "cell_type": "markdown",
   "id": "f6dacbbd",
   "metadata": {},
   "source": [
    "# Array types and conversions between types"
   ]
  },
  {
   "cell_type": "code",
   "execution_count": 10,
   "id": "7f20d719",
   "metadata": {},
   "outputs": [],
   "source": [
    "#Importing numpy\n",
    "import numpy as np"
   ]
  },
  {
   "cell_type": "code",
   "execution_count": 140,
   "id": "c77caf44",
   "metadata": {},
   "outputs": [
    {
     "data": {
      "text/plain": [
       "array([10, 20, 30, 40, 50])"
      ]
     },
     "execution_count": 140,
     "metadata": {},
     "output_type": "execute_result"
    }
   ],
   "source": [
    "#Creating an array with five integers\n",
    "integers=np.array([10,20,30,40,50])\n",
    "integers"
   ]
  },
  {
   "cell_type": "code",
   "execution_count": 141,
   "id": "97a8741e",
   "metadata": {},
   "outputs": [
    {
     "data": {
      "text/plain": [
       "10"
      ]
     },
     "execution_count": 141,
     "metadata": {},
     "output_type": "execute_result"
    }
   ],
   "source": [
    "#Checking the first element in the array integers(in computers, numbers start from 0)\n",
    "integers[0]"
   ]
  },
  {
   "cell_type": "code",
   "execution_count": 18,
   "id": "9c2e5c78",
   "metadata": {},
   "outputs": [
    {
     "data": {
      "text/plain": [
       "array([20, 20, 30, 40, 50])"
      ]
     },
     "execution_count": 18,
     "metadata": {},
     "output_type": "execute_result"
    }
   ],
   "source": [
    "#Changing the value of the first element in array to 20 and then printing the array\n",
    "integers[0]=20\n",
    "integers"
   ]
  },
  {
   "cell_type": "code",
   "execution_count": 19,
   "id": "72467673",
   "metadata": {},
   "outputs": [
    {
     "data": {
      "text/plain": [
       "array([21, 20, 30, 40, 50])"
      ]
     },
     "execution_count": 19,
     "metadata": {},
     "output_type": "execute_result"
    }
   ],
   "source": [
    "#changing value of one element to float but the output is int because array can save elements with same data types \n",
    "integers[0]=21.5\n",
    "integers"
   ]
  },
  {
   "cell_type": "code",
   "execution_count": 21,
   "id": "b389a90f",
   "metadata": {},
   "outputs": [
    {
     "data": {
      "text/plain": [
       "dtype('int64')"
      ]
     },
     "execution_count": 21,
     "metadata": {},
     "output_type": "execute_result"
    }
   ],
   "source": [
    "#Checking the data type of an array\n",
    "integers.dtype"
   ]
  },
  {
   "cell_type": "code",
   "execution_count": 22,
   "id": "fe4248ef",
   "metadata": {
    "scrolled": true
   },
   "outputs": [
    {
     "data": {
      "text/plain": [
       "array([21, 20, 30, 40, 50], dtype=int8)"
      ]
     },
     "execution_count": 22,
     "metadata": {},
     "output_type": "execute_result"
    }
   ],
   "source": [
    "#changing the data type of integers array from int 64 to int 8\n",
    "smallintegers=np.array(integers, dtype=np.int8)\n",
    "smallintegers"
   ]
  },
  {
   "cell_type": "code",
   "execution_count": 23,
   "id": "d0b8976b",
   "metadata": {},
   "outputs": [
    {
     "data": {
      "text/plain": [
       "40"
      ]
     },
     "execution_count": 23,
     "metadata": {},
     "output_type": "execute_result"
    }
   ],
   "source": [
    "#nbytes function tells us the (memory) bytes consumed by an array\n",
    "#we will see that smallintegers take 8 times less memory\n",
    "integers.nbytes"
   ]
  },
  {
   "cell_type": "code",
   "execution_count": 24,
   "id": "bc969471",
   "metadata": {
    "scrolled": true
   },
   "outputs": [
    {
     "data": {
      "text/plain": [
       "5"
      ]
     },
     "execution_count": 24,
     "metadata": {},
     "output_type": "execute_result"
    }
   ],
   "source": [
    "smallintegers.nbytes"
   ]
  },
  {
   "cell_type": "code",
   "execution_count": 26,
   "id": "59e111e0",
   "metadata": {},
   "outputs": [
    {
     "data": {
      "text/plain": [
       "array([ 127, -128, -127], dtype=int8)"
      ]
     },
     "execution_count": 26,
     "metadata": {},
     "output_type": "execute_result"
    }
   ],
   "source": [
    "#We have to be careful with dtype function to prevent an overflow\n",
    "overflow=np.array([127,128,129],dtype=np.int8)\n",
    "overflow"
   ]
  },
  {
   "cell_type": "code",
   "execution_count": 27,
   "id": "b2f7d24a",
   "metadata": {
    "scrolled": true
   },
   "outputs": [
    {
     "name": "stdout",
     "output_type": "stream",
     "text": [
      "[1.2 2.3 3.4 4.5 5.6]\n"
     ]
    }
   ],
   "source": [
    "#Numpy can also determine the data type of float\n",
    "floats=np.array([1.2,2.3,3.4,4.5,5.6])\n",
    "print(floats)"
   ]
  },
  {
   "cell_type": "code",
   "execution_count": 28,
   "id": "4c77a8df",
   "metadata": {},
   "outputs": [
    {
     "data": {
      "text/plain": [
       "dtype('float64')"
      ]
     },
     "execution_count": 28,
     "metadata": {},
     "output_type": "execute_result"
    }
   ],
   "source": [
    "floats.dtype"
   ]
  },
  {
   "cell_type": "markdown",
   "id": "35bec98f",
   "metadata": {},
   "source": [
    "# Multidimensional arrays"
   ]
  },
  {
   "cell_type": "code",
   "execution_count": 31,
   "id": "c0fd94a3",
   "metadata": {},
   "outputs": [
    {
     "data": {
      "text/plain": [
       "array([[1, 2, 3],\n",
       "       [4, 5, 6],\n",
       "       [7, 8, 9]])"
      ]
     },
     "execution_count": 31,
     "metadata": {},
     "output_type": "execute_result"
    }
   ],
   "source": [
    "#We have seen the one dimensionals array previously\n",
    "#Now, there are mulidimensional array like a matrix and tensor(3d array)\n",
    "#creating a matrix\n",
    "nums=np.array([[1,2,3],[4,5,6],[7,8,9]])\n",
    "nums"
   ]
  },
  {
   "cell_type": "code",
   "execution_count": 33,
   "id": "cdbee4e0",
   "metadata": {
    "scrolled": true
   },
   "outputs": [
    {
     "data": {
      "text/plain": [
       "1"
      ]
     },
     "execution_count": 33,
     "metadata": {},
     "output_type": "execute_result"
    }
   ],
   "source": [
    "#Checking the first element in the first array\n",
    "nums[0,0]"
   ]
  },
  {
   "cell_type": "code",
   "execution_count": 34,
   "id": "7a5a30c2",
   "metadata": {},
   "outputs": [
    {
     "data": {
      "text/plain": [
       "4"
      ]
     },
     "execution_count": 34,
     "metadata": {},
     "output_type": "execute_result"
    }
   ],
   "source": [
    "#Checking the first element in the second row\n",
    "nums[1,0]"
   ]
  },
  {
   "cell_type": "code",
   "execution_count": 35,
   "id": "72006ba3",
   "metadata": {
    "scrolled": true
   },
   "outputs": [
    {
     "data": {
      "text/plain": [
       "2"
      ]
     },
     "execution_count": 35,
     "metadata": {},
     "output_type": "execute_result"
    }
   ],
   "source": [
    "#Checking the dimension of the array\n",
    "nums.ndim"
   ]
  },
  {
   "cell_type": "code",
   "execution_count": 42,
   "id": "a163e5d6",
   "metadata": {
    "scrolled": true
   },
   "outputs": [
    {
     "data": {
      "text/plain": [
       "array([[[ 1,  2,  3],\n",
       "        [ 4,  5,  6]],\n",
       "\n",
       "       [[ 7,  8,  9],\n",
       "        [10, 11, 12]]])"
      ]
     },
     "execution_count": 42,
     "metadata": {},
     "output_type": "execute_result"
    }
   ],
   "source": [
    "#creating a tensor(3d array)\n",
    "ten=np.array([[[1,2,3],[4,5,6]],[[7,8,9],[10,11,12]]])\n",
    "ten"
   ]
  },
  {
   "cell_type": "code",
   "execution_count": 43,
   "id": "e29e29a5",
   "metadata": {},
   "outputs": [
    {
     "data": {
      "text/plain": [
       "3"
      ]
     },
     "execution_count": 43,
     "metadata": {},
     "output_type": "execute_result"
    }
   ],
   "source": [
    "ten.ndim"
   ]
  },
  {
   "cell_type": "code",
   "execution_count": 44,
   "id": "645df62c",
   "metadata": {},
   "outputs": [
    {
     "data": {
      "text/plain": [
       "8"
      ]
     },
     "execution_count": 44,
     "metadata": {},
     "output_type": "execute_result"
    }
   ],
   "source": [
    "#Checking an element in 3d array\n",
    "ten[1,0,1]"
   ]
  },
  {
   "cell_type": "code",
   "execution_count": null,
   "id": "f22031c5",
   "metadata": {},
   "outputs": [],
   "source": [
    "#In this way 4,5, and other multi dimensional arrays can be built without any problem"
   ]
  },
  {
   "cell_type": "markdown",
   "id": "d7ec7a50",
   "metadata": {},
   "source": [
    "# Creating arrays from python objects"
   ]
  },
  {
   "cell_type": "code",
   "execution_count": 46,
   "id": "ea0e8819",
   "metadata": {},
   "outputs": [
    {
     "data": {
      "text/plain": [
       "[1, 2, 3, 4, 5, 6, 7, 8, 9, 0]"
      ]
     },
     "execution_count": 46,
     "metadata": {},
     "output_type": "execute_result"
    }
   ],
   "source": [
    "#We can create an array from a list or tuples\n",
    "list=[1,2,3,4,5,6,7,8,9,0]\n",
    "list"
   ]
  },
  {
   "cell_type": "code",
   "execution_count": 47,
   "id": "e5659155",
   "metadata": {},
   "outputs": [
    {
     "data": {
      "text/plain": [
       "array([1, 2, 3, 4, 5, 6, 7, 8, 9, 0])"
      ]
     },
     "execution_count": 47,
     "metadata": {},
     "output_type": "execute_result"
    }
   ],
   "source": [
    "array=np.array(list)\n",
    "array"
   ]
  },
  {
   "cell_type": "code",
   "execution_count": 52,
   "id": "62f47582",
   "metadata": {},
   "outputs": [
    {
     "data": {
      "text/plain": [
       "[1, 2, 3, -1, 0.23, 50, 129999000.12, 4.56]"
      ]
     },
     "execution_count": 52,
     "metadata": {},
     "output_type": "execute_result"
    }
   ],
   "source": [
    "#Creating array from a list which has both int and float\n",
    "list=[1,2,3,-1,.23,50,129999000.12,4.56]\n",
    "list"
   ]
  },
  {
   "cell_type": "code",
   "execution_count": 53,
   "id": "8afdfe7a",
   "metadata": {},
   "outputs": [
    {
     "data": {
      "text/plain": [
       "array([ 1.00000e+00,  2.00000e+00,  3.00000e+00, -1.00000e+00,\n",
       "        2.30000e-01,  5.00000e+01,  1.29999e+08,  4.56000e+00])"
      ]
     },
     "execution_count": 53,
     "metadata": {},
     "output_type": "execute_result"
    }
   ],
   "source": [
    "array=np.array(list)\n",
    "array"
   ]
  },
  {
   "cell_type": "code",
   "execution_count": 54,
   "id": "525ce643",
   "metadata": {},
   "outputs": [
    {
     "data": {
      "text/plain": [
       "dtype('float64')"
      ]
     },
     "execution_count": 54,
     "metadata": {},
     "output_type": "execute_result"
    }
   ],
   "source": [
    "#The data type of array is float64 which has int and float in a list\n",
    "array.dtype"
   ]
  },
  {
   "cell_type": "code",
   "execution_count": 59,
   "id": "0e6bf338",
   "metadata": {},
   "outputs": [
    {
     "data": {
      "text/plain": [
       "[1, 2, -50, -99, 'Hello bete']"
      ]
     },
     "execution_count": 59,
     "metadata": {},
     "output_type": "execute_result"
    }
   ],
   "source": [
    "#Creating an array from a list which has both int and strings\n",
    "list=[1,2,-50,-99,'Hello bete']\n",
    "list"
   ]
  },
  {
   "cell_type": "code",
   "execution_count": 60,
   "id": "bdc53591",
   "metadata": {},
   "outputs": [
    {
     "data": {
      "text/plain": [
       "array(['1', '2', '-50', '-99', 'Hello bete'], dtype='<U21')"
      ]
     },
     "execution_count": 60,
     "metadata": {},
     "output_type": "execute_result"
    }
   ],
   "source": [
    "#In this case, all the elements in the list will turn into strings\n",
    "array=np.array(list)\n",
    "array"
   ]
  },
  {
   "cell_type": "code",
   "execution_count": 61,
   "id": "c95d7300",
   "metadata": {},
   "outputs": [
    {
     "data": {
      "text/plain": [
       "dtype('<U21')"
      ]
     },
     "execution_count": 61,
     "metadata": {},
     "output_type": "execute_result"
    }
   ],
   "source": [
    "array.dtype"
   ]
  },
  {
   "cell_type": "code",
   "execution_count": 62,
   "id": "5e02b6ad",
   "metadata": {},
   "outputs": [
    {
     "data": {
      "text/plain": [
       "(1, 2, 3, 4, 5, 6, 7, 8, 9, 0)"
      ]
     },
     "execution_count": 62,
     "metadata": {},
     "output_type": "execute_result"
    }
   ],
   "source": [
    "#creating an array from a tuple\n",
    "tuple=(1,2,3,4,5,6,7,8,9,0)\n",
    "tuple"
   ]
  },
  {
   "cell_type": "code",
   "execution_count": 64,
   "id": "46a012da",
   "metadata": {},
   "outputs": [
    {
     "data": {
      "text/plain": [
       "array([1, 2, 3, 4, 5, 6, 7, 8, 9, 0])"
      ]
     },
     "execution_count": 64,
     "metadata": {},
     "output_type": "execute_result"
    }
   ],
   "source": [
    "array=np.array(tuple)\n",
    "array"
   ]
  },
  {
   "cell_type": "code",
   "execution_count": 65,
   "id": "beabcd17",
   "metadata": {},
   "outputs": [
    {
     "data": {
      "text/plain": [
       "dtype('int64')"
      ]
     },
     "execution_count": 65,
     "metadata": {},
     "output_type": "execute_result"
    }
   ],
   "source": [
    "array.dtype"
   ]
  },
  {
   "cell_type": "code",
   "execution_count": 67,
   "id": "35ce49c0",
   "metadata": {},
   "outputs": [
    {
     "data": {
      "text/plain": [
       "[[[1, 2, 3], [4, 5, 6]], [[7, 8, 9], [10, 11, 12]]]"
      ]
     },
     "execution_count": 67,
     "metadata": {},
     "output_type": "execute_result"
    }
   ],
   "source": [
    "#creating a three dimensional array from a list\n",
    "multi_dim_list=[[[1,2,3],[4,5,6]],[[7,8,9],[10,11,12]]]\n",
    "multi_dim_list"
   ]
  },
  {
   "cell_type": "code",
   "execution_count": 70,
   "id": "1a84a897",
   "metadata": {},
   "outputs": [
    {
     "data": {
      "text/plain": [
       "array([[[ 1,  2,  3],\n",
       "        [ 4,  5,  6]],\n",
       "\n",
       "       [[ 7,  8,  9],\n",
       "        [10, 11, 12]]])"
      ]
     },
     "execution_count": 70,
     "metadata": {},
     "output_type": "execute_result"
    }
   ],
   "source": [
    "array=np.array(multi_dim_list)\n",
    "array"
   ]
  },
  {
   "cell_type": "markdown",
   "id": "470a57e2",
   "metadata": {},
   "source": [
    "# Intrinsic Numpy array creation"
   ]
  },
  {
   "cell_type": "code",
   "execution_count": 71,
   "id": "119db7c8",
   "metadata": {},
   "outputs": [
    {
     "data": {
      "text/plain": [
       "array([0, 1, 2, 3, 4, 5, 6, 7, 8, 9])"
      ]
     },
     "execution_count": 71,
     "metadata": {},
     "output_type": "execute_result"
    }
   ],
   "source": [
    "#These funcions help to quickly generate arrays with many elements\n",
    "#np.arange-this is simlar to python range function and adds elements to\n",
    "#an array and we can choose the difference between two numbers\n",
    "array=np.arange(10)\n",
    "array"
   ]
  },
  {
   "cell_type": "code",
   "execution_count": 72,
   "id": "3f99a001",
   "metadata": {},
   "outputs": [
    {
     "data": {
      "text/plain": [
       "array([100, 101, 102, 103, 104, 105, 106, 107, 108, 109, 110, 111, 112,\n",
       "       113, 114, 115, 116, 117, 118, 119, 120, 121, 122, 123, 124, 125,\n",
       "       126, 127, 128, 129])"
      ]
     },
     "execution_count": 72,
     "metadata": {},
     "output_type": "execute_result"
    }
   ],
   "source": [
    "#setting range between 100 and 130\n",
    "array=np.arange(100,130)\n",
    "array"
   ]
  },
  {
   "cell_type": "code",
   "execution_count": 93,
   "id": "e98ba9b4",
   "metadata": {},
   "outputs": [
    {
     "data": {
      "text/plain": [
       "array([ 50,  52,  54,  56,  58,  60,  62,  64,  66,  68,  70,  72,  74,\n",
       "        76,  78,  80,  82,  84,  86,  88,  90,  92,  94,  96,  98, 100])"
      ]
     },
     "execution_count": 93,
     "metadata": {},
     "output_type": "execute_result"
    }
   ],
   "source": [
    "#setting the first and last point, and the difference between the elements\n",
    "array=np.arange(50,101,2)\n",
    "array"
   ]
  },
  {
   "cell_type": "code",
   "execution_count": 143,
   "id": "6f964643",
   "metadata": {},
   "outputs": [
    {
     "data": {
      "text/plain": [
       "array([100.        , 100.20408163, 100.40816327, 100.6122449 ,\n",
       "       100.81632653, 101.02040816, 101.2244898 , 101.42857143,\n",
       "       101.63265306, 101.83673469, 102.04081633, 102.24489796,\n",
       "       102.44897959, 102.65306122, 102.85714286, 103.06122449,\n",
       "       103.26530612, 103.46938776, 103.67346939, 103.87755102,\n",
       "       104.08163265, 104.28571429, 104.48979592, 104.69387755,\n",
       "       104.89795918, 105.10204082, 105.30612245, 105.51020408,\n",
       "       105.71428571, 105.91836735, 106.12244898, 106.32653061,\n",
       "       106.53061224, 106.73469388, 106.93877551, 107.14285714,\n",
       "       107.34693878, 107.55102041, 107.75510204, 107.95918367,\n",
       "       108.16326531, 108.36734694, 108.57142857, 108.7755102 ,\n",
       "       108.97959184, 109.18367347, 109.3877551 , 109.59183673,\n",
       "       109.79591837, 110.        ])"
      ]
     },
     "execution_count": 143,
     "metadata": {},
     "output_type": "execute_result"
    }
   ],
   "source": [
    "#np.linspace-This helps to create an array where we can choose the number of elements between the given set\n",
    "array=np.linspace(100,110)\n",
    "array"
   ]
  },
  {
   "cell_type": "code",
   "execution_count": 88,
   "id": "d717c982",
   "metadata": {
    "scrolled": true
   },
   "outputs": [
    {
     "data": {
      "text/plain": [
       "array([10. , 10.5, 11. , 11.5, 12. , 12.5, 13. , 13.5, 14. , 14.5, 15. ,\n",
       "       15.5, 16. , 16.5, 17. , 17.5, 18. , 18.5, 19. , 19.5, 20. ])"
      ]
     },
     "execution_count": 88,
     "metadata": {},
     "output_type": "execute_result"
    }
   ],
   "source": [
    "#setting the firt,last point and the number of elements in the array\n",
    "array=np.linspace(10,20,21)\n",
    "array"
   ]
  },
  {
   "cell_type": "code",
   "execution_count": 107,
   "id": "f74dff9b",
   "metadata": {
    "scrolled": true
   },
   "outputs": [
    {
     "data": {
      "text/plain": [
       "array([0.95404161, 0.21108081, 0.46590549, 0.95453075, 0.04438144,\n",
       "       0.9659248 , 0.23179928, 0.48990013, 0.17193084, 0.464103  ])"
      ]
     },
     "execution_count": 107,
     "metadata": {},
     "output_type": "execute_result"
    }
   ],
   "source": [
    "#np.random.rand-This will create an array with random numbers and creates multidimensional array if given such an input\n",
    "#The first number is the no of elements, second argument is the number of columns\n",
    "array=np.random.rand(10)\n",
    "array"
   ]
  },
  {
   "cell_type": "code",
   "execution_count": 109,
   "id": "895a5fab",
   "metadata": {},
   "outputs": [
    {
     "data": {
      "text/plain": [
       "array([[0.42311659, 0.49069065, 0.0398431 ],\n",
       "       [0.73463533, 0.29994795, 0.88639399],\n",
       "       [0.40598044, 0.06571661, 0.43224181],\n",
       "       [0.36302213, 0.42103722, 0.85086238],\n",
       "       [0.15058523, 0.62609988, 0.60167694]])"
      ]
     },
     "execution_count": 109,
     "metadata": {},
     "output_type": "execute_result"
    }
   ],
   "source": [
    "array=np.random.rand(5,3)\n",
    "array"
   ]
  },
  {
   "cell_type": "code",
   "execution_count": 113,
   "id": "79724312",
   "metadata": {},
   "outputs": [
    {
     "data": {
      "text/plain": [
       "16"
      ]
     },
     "execution_count": 113,
     "metadata": {},
     "output_type": "execute_result"
    }
   ],
   "source": [
    "#random.randint-this creates a random int array\n",
    "#The first number is min, second is max, third is the number of elements in the array\n",
    "array=np.random.randint(10,20)\n",
    "array"
   ]
  },
  {
   "cell_type": "code",
   "execution_count": 115,
   "id": "7fac762b",
   "metadata": {},
   "outputs": [
    {
     "data": {
      "text/plain": [
       "array([10, 17, 18, 17, 13, 14, 15, 11, 10, 14])"
      ]
     },
     "execution_count": 115,
     "metadata": {},
     "output_type": "execute_result"
    }
   ],
   "source": [
    "array=np.random.randint(10,20,10)\n",
    "array"
   ]
  },
  {
   "cell_type": "markdown",
   "id": "b4ff8008",
   "metadata": {},
   "source": [
    "# Creating arrays filled with constant values"
   ]
  },
  {
   "cell_type": "code",
   "execution_count": 116,
   "id": "a3364199",
   "metadata": {},
   "outputs": [
    {
     "data": {
      "text/plain": [
       "array([0., 0., 0., 0., 0.])"
      ]
     },
     "execution_count": 116,
     "metadata": {},
     "output_type": "execute_result"
    }
   ],
   "source": [
    "#np.zero-creating an array with zero value\n",
    "array=np.zeros(5)\n",
    "array"
   ]
  },
  {
   "cell_type": "code",
   "execution_count": 118,
   "id": "b4e68e20",
   "metadata": {
    "scrolled": true
   },
   "outputs": [
    {
     "data": {
      "text/plain": [
       "array([[0., 0., 0., 0.],\n",
       "       [0., 0., 0., 0.],\n",
       "       [0., 0., 0., 0.],\n",
       "       [0., 0., 0., 0.],\n",
       "       [0., 0., 0., 0.]])"
      ]
     },
     "execution_count": 118,
     "metadata": {},
     "output_type": "execute_result"
    }
   ],
   "source": [
    "#We have to create a tuple where first number is no of rows, second no is no of columns\n",
    "array=np.zeros((5,4))\n",
    "array"
   ]
  },
  {
   "cell_type": "code",
   "execution_count": 120,
   "id": "aca57688",
   "metadata": {
    "scrolled": true
   },
   "outputs": [
    {
     "data": {
      "text/plain": [
       "array([1., 1., 1., 1., 1.])"
      ]
     },
     "execution_count": 120,
     "metadata": {},
     "output_type": "execute_result"
    }
   ],
   "source": [
    "#np.ones-creating an array with pure ones\n",
    "array=np.ones(5)\n",
    "array"
   ]
  },
  {
   "cell_type": "code",
   "execution_count": 122,
   "id": "e8f18d11",
   "metadata": {
    "scrolled": true
   },
   "outputs": [
    {
     "data": {
      "text/plain": [
       "array([[1., 1., 1., 1.],\n",
       "       [1., 1., 1., 1.],\n",
       "       [1., 1., 1., 1.],\n",
       "       [1., 1., 1., 1.],\n",
       "       [1., 1., 1., 1.]])"
      ]
     },
     "execution_count": 122,
     "metadata": {},
     "output_type": "execute_result"
    }
   ],
   "source": [
    "#We have to create a tuple where first number is no of rows, second no is no of columns\n",
    "array=np.ones((5,4))\n",
    "array"
   ]
  },
  {
   "cell_type": "code",
   "execution_count": 123,
   "id": "c321307e",
   "metadata": {},
   "outputs": [
    {
     "data": {
      "text/plain": [
       "array([[1, 1, 1, 1],\n",
       "       [1, 1, 1, 1],\n",
       "       [1, 1, 1, 1],\n",
       "       [1, 1, 1, 1],\n",
       "       [1, 1, 1, 1]])"
      ]
     },
     "execution_count": 123,
     "metadata": {},
     "output_type": "execute_result"
    }
   ],
   "source": [
    "array=np.ones((5,4),dtype=int)\n",
    "array"
   ]
  },
  {
   "cell_type": "code",
   "execution_count": 126,
   "id": "fd5ea1d2",
   "metadata": {},
   "outputs": [
    {
     "data": {
      "text/plain": [
       "array([12, 12, 12, 12, 12, 12, 12, 12, 12, 12])"
      ]
     },
     "execution_count": 126,
     "metadata": {},
     "output_type": "execute_result"
    }
   ],
   "source": [
    "#np.ndarray.fill-used to create one dimensional array\n",
    "#np.full-used to create both one and two dimensional arrays\n",
    "array=np.empty(10,dtype=int)\n",
    "array.fill(12)\n",
    "array"
   ]
  },
  {
   "cell_type": "code",
   "execution_count": 127,
   "id": "3d6283cc",
   "metadata": {},
   "outputs": [
    {
     "data": {
      "text/plain": [
       "array([10, 10, 10, 10, 10])"
      ]
     },
     "execution_count": 127,
     "metadata": {},
     "output_type": "execute_result"
    }
   ],
   "source": [
    "#The first number is the no of times you need that number, second number is the number which will get in the array\n",
    "array=np.full(5,10)\n",
    "array"
   ]
  },
  {
   "cell_type": "code",
   "execution_count": 128,
   "id": "37d6a5a4",
   "metadata": {},
   "outputs": [
    {
     "data": {
      "text/plain": [
       "array([[8, 8, 8, 8, 8],\n",
       "       [8, 8, 8, 8, 8],\n",
       "       [8, 8, 8, 8, 8],\n",
       "       [8, 8, 8, 8, 8]])"
      ]
     },
     "execution_count": 128,
     "metadata": {},
     "output_type": "execute_result"
    }
   ],
   "source": [
    "#creating a 2d array with 4 rows, 5 columns with the number 8\n",
    "array=np.full((4,5),8)\n",
    "array"
   ]
  },
  {
   "cell_type": "markdown",
   "id": "763ab251",
   "metadata": {},
   "source": [
    "# Finding shape and size of an array"
   ]
  },
  {
   "cell_type": "code",
   "execution_count": 129,
   "id": "3d767791",
   "metadata": {
    "scrolled": true
   },
   "outputs": [
    {
     "data": {
      "text/plain": [
       "array([ 0,  1,  2,  3,  4,  5,  6,  7,  8,  9, 10, 11, 12, 13, 14, 15, 16,\n",
       "       17, 18, 19])"
      ]
     },
     "execution_count": 129,
     "metadata": {},
     "output_type": "execute_result"
    }
   ],
   "source": [
    "array1=np.arange(20)\n",
    "array1"
   ]
  },
  {
   "cell_type": "code",
   "execution_count": 130,
   "id": "b2ee2cdf",
   "metadata": {
    "scrolled": true
   },
   "outputs": [
    {
     "data": {
      "text/plain": [
       "array([[ 1.,  2.],\n",
       "       [ 2.,  4.],\n",
       "       [ 3.,  6.],\n",
       "       [ 4.,  8.],\n",
       "       [ 5., 10.],\n",
       "       [ 6., 12.],\n",
       "       [ 7., 14.],\n",
       "       [ 8., 16.],\n",
       "       [ 9., 18.],\n",
       "       [10., 20.]])"
      ]
     },
     "execution_count": 130,
     "metadata": {},
     "output_type": "execute_result"
    }
   ],
   "source": [
    "array2=np.linspace((1,2),(10,20),10)\n",
    "array2"
   ]
  },
  {
   "cell_type": "code",
   "execution_count": 131,
   "id": "e1cba309",
   "metadata": {},
   "outputs": [
    {
     "data": {
      "text/plain": [
       "array([[[10, 10],\n",
       "        [10, 10]],\n",
       "\n",
       "       [[10, 10],\n",
       "        [10, 10]]])"
      ]
     },
     "execution_count": 131,
     "metadata": {},
     "output_type": "execute_result"
    }
   ],
   "source": [
    "array3=np.full((2,2,2),10)\n",
    "array3"
   ]
  },
  {
   "cell_type": "code",
   "execution_count": 132,
   "id": "ae9fc2be",
   "metadata": {
    "scrolled": true
   },
   "outputs": [
    {
     "data": {
      "text/plain": [
       "(20,)"
      ]
     },
     "execution_count": 132,
     "metadata": {},
     "output_type": "execute_result"
    }
   ],
   "source": [
    "#The shape tells us the no of elements in the 1st dim, then 2nd dim,...\n",
    "np.shape(array1)"
   ]
  },
  {
   "cell_type": "code",
   "execution_count": 133,
   "id": "6dbd0298",
   "metadata": {},
   "outputs": [
    {
     "data": {
      "text/plain": [
       "(10, 2)"
      ]
     },
     "execution_count": 133,
     "metadata": {},
     "output_type": "execute_result"
    }
   ],
   "source": [
    "np.shape(array2)"
   ]
  },
  {
   "cell_type": "code",
   "execution_count": 134,
   "id": "33fb7581",
   "metadata": {},
   "outputs": [
    {
     "data": {
      "text/plain": [
       "(2, 2, 2)"
      ]
     },
     "execution_count": 134,
     "metadata": {},
     "output_type": "execute_result"
    }
   ],
   "source": [
    "np.shape(array3)"
   ]
  },
  {
   "cell_type": "code",
   "execution_count": 138,
   "id": "0716e9cb",
   "metadata": {
    "scrolled": true
   },
   "outputs": [
    {
     "data": {
      "text/plain": [
       "20"
      ]
     },
     "execution_count": 138,
     "metadata": {},
     "output_type": "execute_result"
    }
   ],
   "source": [
    "#The size function helps us determine the no of elements in an array\n",
    "np.size(array1)"
   ]
  },
  {
   "cell_type": "code",
   "execution_count": 139,
   "id": "aa61f79c",
   "metadata": {
    "scrolled": true
   },
   "outputs": [
    {
     "data": {
      "text/plain": [
       "20"
      ]
     },
     "execution_count": 139,
     "metadata": {},
     "output_type": "execute_result"
    }
   ],
   "source": [
    "np.size(array2)"
   ]
  },
  {
   "cell_type": "code",
   "execution_count": 137,
   "id": "edc34e01",
   "metadata": {},
   "outputs": [
    {
     "data": {
      "text/plain": [
       "8"
      ]
     },
     "execution_count": 137,
     "metadata": {},
     "output_type": "execute_result"
    }
   ],
   "source": [
    "np.size(array3)"
   ]
  }
 ],
 "metadata": {
  "kernelspec": {
   "display_name": "Python 3 (ipykernel)",
   "language": "python",
   "name": "python3"
  },
  "language_info": {
   "codemirror_mode": {
    "name": "ipython",
    "version": 3
   },
   "file_extension": ".py",
   "mimetype": "text/x-python",
   "name": "python",
   "nbconvert_exporter": "python",
   "pygments_lexer": "ipython3",
   "version": "3.9.13"
  }
 },
 "nbformat": 4,
 "nbformat_minor": 5
}
